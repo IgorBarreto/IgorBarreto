{
  "nbformat": 4,
  "nbformat_minor": 0,
  "metadata": {
    "colab": {
      "provenance": [],
      "authorship_tag": "ABX9TyPIN/bWOYGXpD/xWN3Bz/Mx",
      "include_colab_link": true
    },
    "kernelspec": {
      "name": "python3",
      "display_name": "Python 3"
    },
    "language_info": {
      "name": "python"
    }
  },
  "cells": [
    {
      "cell_type": "markdown",
      "metadata": {
        "id": "view-in-github",
        "colab_type": "text"
      },
      "source": [
        "<a href=\"https://colab.research.google.com/github/IgorBarreto/IgorBarreto/blob/main/DSA/cap06/Notebooks/funcao_janela.ipynb\" target=\"_parent\"><img src=\"https://colab.research.google.com/assets/colab-badge.svg\" alt=\"Open In Colab\"/></a>"
      ]
    },
    {
      "cell_type": "markdown",
      "source": [
        "### Carregue os dados desta meneira\n",
        "\n",
        "\n",
        "```\n",
        "!wget - q https://IgorBarreto.github.io/[caminho do arquivo]\n",
        "```\n",
        "\n",
        "\n"
      ],
      "metadata": {
        "id": "RuEtan7DqtV3"
      }
    },
    {
      "cell_type": "markdown",
      "source": [
        "### configura tamanho da fonte da saida"
      ],
      "metadata": {
        "id": "Ulz0mS-rsE0A"
      }
    },
    {
      "cell_type": "code",
      "execution_count": 1,
      "metadata": {
        "id": "Xm6HVKuvdg-Y",
        "colab": {
          "base_uri": "https://localhost:8080/"
        },
        "outputId": "9046a4a2-b575-4f79-99d9-481cbdc9f0a4"
      },
      "outputs": [
        {
          "output_type": "stream",
          "name": "stdout",
          "text": [
            "\u001b[2K     \u001b[90m━━━━━━━━━━━━━━━━━━━━━━━━━━━━━━━━━━━━━━━━\u001b[0m \u001b[32m316.9/316.9 MB\u001b[0m \u001b[31m3.2 MB/s\u001b[0m eta \u001b[36m0:00:00\u001b[0m\n",
            "\u001b[?25h  Preparing metadata (setup.py) ... \u001b[?25l\u001b[?25hdone\n",
            "  Building wheel for pyspark (setup.py) ... \u001b[?25l\u001b[?25hdone\n"
          ]
        }
      ],
      "source": [
        "def increase_font():\n",
        "  from IPython.display import Javascript\n",
        "  display(Javascript('''\n",
        "  for (rule of document.styleSheets[0].cssRules){\n",
        "    if (rule.selectorText=='body') {\n",
        "      rule.style.fontSize = '24px'\n",
        "      break\n",
        "    }\n",
        "  }\n",
        "  '''))\n",
        "get_ipython().events.register('pre_run_cell', increase_font)\n",
        "!pip install pyspark --quiet"
      ]
    },
    {
      "cell_type": "markdown",
      "source": [
        "### Donload dos dados"
      ],
      "metadata": {
        "id": "gnZkSOi2sMfK"
      }
    },
    {
      "cell_type": "code",
      "source": [
        "# download dos dados\n",
        "\n",
        "! wget -q https://IgorBarreto.github.io/DSA/cap06/Datasets/vendas.csv\n",
        "! wget -q https://IgorBarreto.github.io/DSA/cap06/Datasets/2012Q1-capitalbikeshare-tripdata.zip"
      ],
      "metadata": {
        "colab": {
          "base_uri": "https://localhost:8080/",
          "height": 17
        },
        "id": "gEPAUqtCrhFG",
        "outputId": "53069a0f-d829-4b21-ccb1-14aaa914a338"
      },
      "execution_count": 2,
      "outputs": [
        {
          "output_type": "display_data",
          "data": {
            "text/plain": [
              "<IPython.core.display.Javascript object>"
            ],
            "application/javascript": [
              "\n",
              "  for (rule of document.styleSheets[0].cssRules){\n",
              "    if (rule.selectorText=='body') {\n",
              "      rule.style.fontSize = '24px'\n",
              "      break\n",
              "    }\n",
              "  }\n",
              "  "
            ]
          },
          "metadata": {}
        }
      ]
    },
    {
      "cell_type": "markdown",
      "source": [
        "### Cria spark session"
      ],
      "metadata": {
        "id": "7Lz0KL6WsRvh"
      }
    },
    {
      "cell_type": "code",
      "source": [
        "import pyspark\n",
        "import zipfile\n",
        "from pyspark.sql import SparkSession\n",
        "spark = SparkSession\\\n",
        "  .builder\\\n",
        "  .appName('Sql spark')\\\n",
        "  .getOrCreate()"
      ],
      "metadata": {
        "colab": {
          "base_uri": "https://localhost:8080/",
          "height": 17
        },
        "id": "ZpBWXSuSmq0H",
        "outputId": "5cb683d9-0692-4f99-c449-89b211597737"
      },
      "execution_count": 3,
      "outputs": [
        {
          "output_type": "display_data",
          "data": {
            "text/plain": [
              "<IPython.core.display.Javascript object>"
            ],
            "application/javascript": [
              "\n",
              "  for (rule of document.styleSheets[0].cssRules){\n",
              "    if (rule.selectorText=='body') {\n",
              "      rule.style.fontSize = '24px'\n",
              "      break\n",
              "    }\n",
              "  }\n",
              "  "
            ]
          },
          "metadata": {}
        }
      ]
    },
    {
      "cell_type": "markdown",
      "source": [
        "### Carrega dados"
      ],
      "metadata": {
        "id": "8eipRtnbsVcs"
      }
    },
    {
      "cell_type": "code",
      "source": [
        "\n",
        "with zipfile.ZipFile('/content/2012Q1-capitalbikeshare-tripdata.zip') as zip_ref:\n",
        "   zip_ref.extractall()\n",
        "tabelas = {'vendas':'vendas.csv',\n",
        "          'bicicletas_temp':'2012Q1-capitalbikeshare-tripdata.csv'}\n",
        "for k, v in tabelas.items():\n",
        "  df=spark.read.csv(v,header=True,inferSchema=True,sep=\",\")\n",
        "  df.createOrReplaceTempView(k)\n",
        "spark.sql(\n",
        "    \"\"\"\n",
        "SELECT\n",
        "  Duration duracao_segundos,\n",
        "  `Start date` data_inicio,\n",
        "  `End date` data_fim,\n",
        "  `Start station number` numero_estacao_inicio,\n",
        "  `Start station` estacao_inicio,\n",
        "  `End station number` numero_estacao_fim,\n",
        "  `End station` estacao_fim,\n",
        "  `Bike number` numero_bicileta,\n",
        "  `Member type` tipo_membro\n",
        "FROM bicicletas_temp\n",
        "    \"\"\").createOrReplaceTempView('bicicletas')"
      ],
      "metadata": {
        "id": "TXRTmaZgdu5k",
        "colab": {
          "base_uri": "https://localhost:8080/",
          "height": 17
        },
        "outputId": "06416c51-dfc8-4b35-8258-ab71863fb72b"
      },
      "execution_count": 4,
      "outputs": [
        {
          "output_type": "display_data",
          "data": {
            "text/plain": [
              "<IPython.core.display.Javascript object>"
            ],
            "application/javascript": [
              "\n",
              "  for (rule of document.styleSheets[0].cssRules){\n",
              "    if (rule.selectorText=='body') {\n",
              "      rule.style.fontSize = '24px'\n",
              "      break\n",
              "    }\n",
              "  }\n",
              "  "
            ]
          },
          "metadata": {}
        }
      ]
    },
    {
      "cell_type": "code",
      "source": [
        "SQL=\"\"\"select * from vendas\"\"\"\n",
        "spark.sql(SQL).show()"
      ],
      "metadata": {
        "colab": {
          "base_uri": "https://localhost:8080/",
          "height": 448
        },
        "id": "CPrmzkgBt9sp",
        "outputId": "ec3096d4-6d0e-4d34-8b3a-3ab5f70cd745"
      },
      "execution_count": 5,
      "outputs": [
        {
          "output_type": "display_data",
          "data": {
            "text/plain": [
              "<IPython.core.display.Javascript object>"
            ],
            "application/javascript": [
              "\n",
              "  for (rule of document.styleSheets[0].cssRules){\n",
              "    if (rule.selectorText=='body') {\n",
              "      rule.style.fontSize = '24px'\n",
              "      break\n",
              "    }\n",
              "  }\n",
              "  "
            ]
          },
          "metadata": {}
        },
        {
          "output_type": "stream",
          "name": "stdout",
          "text": [
            "+----------------+----------+-----------+\n",
            "|nome_funcionario|ano_fiscal|valor_venda|\n",
            "+----------------+----------+-----------+\n",
            "|        Romario'|      2020|       2000|\n",
            "|        Romario'|      2021|       2500|\n",
            "|        Romario'|      2022|       3000|\n",
            "|           Zico'|      2020|       1500|\n",
            "|           Zico'|      2021|       1000|\n",
            "|           Zico'|      2022|       2000|\n",
            "|           Pele'|      2020|       2000|\n",
            "|           Pele'|      2021|       1500|\n",
            "|           Pele'|      2022|       2500|\n",
            "+----------------+----------+-----------+\n",
            "\n"
          ]
        }
      ]
    },
    {
      "cell_type": "code",
      "source": [
        "# Total de vendas\n",
        "SQL=\"\"\"\n",
        "select\n",
        "  ano_fiscal,\n",
        "  nome_funcionario,\n",
        "  valor_venda,\n",
        "  sum(valor_venda) over (partition by ano_fiscal) total_venda_ano\n",
        "from vendas\n",
        "order by ano_fiscal\"\"\"\n",
        "spark.sql(SQL).show()"
      ],
      "metadata": {
        "id": "ziYNniUVdtq3",
        "colab": {
          "base_uri": "https://localhost:8080/",
          "height": 448
        },
        "outputId": "bfdd96c5-734b-48a0-fd7f-f58b8346c54e"
      },
      "execution_count": 6,
      "outputs": [
        {
          "output_type": "display_data",
          "data": {
            "text/plain": [
              "<IPython.core.display.Javascript object>"
            ],
            "application/javascript": [
              "\n",
              "  for (rule of document.styleSheets[0].cssRules){\n",
              "    if (rule.selectorText=='body') {\n",
              "      rule.style.fontSize = '24px'\n",
              "      break\n",
              "    }\n",
              "  }\n",
              "  "
            ]
          },
          "metadata": {}
        },
        {
          "output_type": "stream",
          "name": "stdout",
          "text": [
            "+----------+----------------+-----------+---------------+\n",
            "|ano_fiscal|nome_funcionario|valor_venda|total_venda_ano|\n",
            "+----------+----------------+-----------+---------------+\n",
            "|      2020|        Romario'|       2000|           5500|\n",
            "|      2020|           Zico'|       1500|           5500|\n",
            "|      2020|           Pele'|       2000|           5500|\n",
            "|      2021|        Romario'|       2500|           5000|\n",
            "|      2021|           Zico'|       1000|           5000|\n",
            "|      2021|           Pele'|       1500|           5000|\n",
            "|      2022|        Romario'|       3000|           7500|\n",
            "|      2022|           Zico'|       2000|           7500|\n",
            "|      2022|           Pele'|       2500|           7500|\n",
            "+----------+----------------+-----------+---------------+\n",
            "\n"
          ]
        }
      ]
    },
    {
      "cell_type": "code",
      "source": [
        "# NÃO FAZ SENTIDO\n",
        "SQL=\"\"\"\n",
        "select\n",
        "  ano_fiscal,\n",
        "  nome_funcionario,\n",
        "  valor_venda,\n",
        "  sum(valor_venda) total_venda,\n",
        "  sum(valor_venda) over (partition by ano_fiscal) total_venda_ano\n",
        "from vendas\n",
        "group by valor_venda,ano_fiscal,nome_funcionario,valor_venda\n",
        "order by ano_fiscal\"\"\"\n",
        "spark.sql(SQL).show()"
      ],
      "metadata": {
        "colab": {
          "base_uri": "https://localhost:8080/",
          "height": 468
        },
        "id": "3X22_hfvjNAN",
        "outputId": "80ab7f8b-9760-428a-8da9-0f4324d46c6e"
      },
      "execution_count": 7,
      "outputs": [
        {
          "output_type": "display_data",
          "data": {
            "text/plain": [
              "<IPython.core.display.Javascript object>"
            ],
            "application/javascript": [
              "\n",
              "  for (rule of document.styleSheets[0].cssRules){\n",
              "    if (rule.selectorText=='body') {\n",
              "      rule.style.fontSize = '24px'\n",
              "      break\n",
              "    }\n",
              "  }\n",
              "  "
            ]
          },
          "metadata": {}
        },
        {
          "output_type": "stream",
          "name": "stdout",
          "text": [
            "+----------+----------------+-----------+-----------+---------------+\n",
            "|ano_fiscal|nome_funcionario|valor_venda|total_venda|total_venda_ano|\n",
            "+----------+----------------+-----------+-----------+---------------+\n",
            "|      2020|           Zico'|       1500|       1500|           5500|\n",
            "|      2020|        Romario'|       2000|       2000|           5500|\n",
            "|      2020|           Pele'|       2000|       2000|           5500|\n",
            "|      2021|           Zico'|       1000|       1000|           5000|\n",
            "|      2021|        Romario'|       2500|       2500|           5000|\n",
            "|      2021|           Pele'|       1500|       1500|           5000|\n",
            "|      2022|        Romario'|       3000|       3000|           7500|\n",
            "|      2022|           Zico'|       2000|       2000|           7500|\n",
            "|      2022|           Pele'|       2500|       2500|           7500|\n",
            "+----------+----------------+-----------+-----------+---------------+\n",
            "\n"
          ]
        }
      ]
    },
    {
      "cell_type": "code",
      "source": [
        "#\n",
        "SQL=\"\"\"\n",
        "select\n",
        "  ano_fiscal,\n",
        "  nome_funcionario,\n",
        "  valor_venda,\n",
        "  sum(valor_venda) over (partition by nome_funcionario) total_venda_ano\n",
        "from vendas\n",
        "order by nome_funcionario\"\"\"\n",
        "spark.sql(SQL).show()"
      ],
      "metadata": {
        "colab": {
          "base_uri": "https://localhost:8080/",
          "height": 448
        },
        "id": "8wkUT8qqjM1N",
        "outputId": "dbedcc00-a4be-491d-fe02-2ae58d8c4fe1"
      },
      "execution_count": 8,
      "outputs": [
        {
          "output_type": "display_data",
          "data": {
            "text/plain": [
              "<IPython.core.display.Javascript object>"
            ],
            "application/javascript": [
              "\n",
              "  for (rule of document.styleSheets[0].cssRules){\n",
              "    if (rule.selectorText=='body') {\n",
              "      rule.style.fontSize = '24px'\n",
              "      break\n",
              "    }\n",
              "  }\n",
              "  "
            ]
          },
          "metadata": {}
        },
        {
          "output_type": "stream",
          "name": "stdout",
          "text": [
            "+----------+----------------+-----------+---------------+\n",
            "|ano_fiscal|nome_funcionario|valor_venda|total_venda_ano|\n",
            "+----------+----------------+-----------+---------------+\n",
            "|      2020|           Pele'|       2000|           6000|\n",
            "|      2021|           Pele'|       1500|           6000|\n",
            "|      2022|           Pele'|       2500|           6000|\n",
            "|      2020|        Romario'|       2000|           7500|\n",
            "|      2021|        Romario'|       2500|           7500|\n",
            "|      2022|        Romario'|       3000|           7500|\n",
            "|      2020|           Zico'|       1500|           4500|\n",
            "|      2021|           Zico'|       1000|           4500|\n",
            "|      2022|           Zico'|       2000|           4500|\n",
            "+----------+----------------+-----------+---------------+\n",
            "\n"
          ]
        }
      ]
    },
    {
      "cell_type": "code",
      "source": [
        "# Total de vendas por ano, funcionario e geral\n",
        "SQL=\"\"\"\n",
        "select\n",
        "  ano_fiscal,\n",
        "  nome_funcionario,\n",
        "  valor_venda,\n",
        "  sum(valor_venda) over (partition by ano_fiscal) total_venda_ano,\n",
        "  sum(valor_venda) over () total_venda_total\n",
        "\n",
        "from vendas\n",
        "order by ano_fiscal\"\"\"\n",
        "spark.sql(SQL).show()"
      ],
      "metadata": {
        "colab": {
          "base_uri": "https://localhost:8080/",
          "height": 468
        },
        "id": "PENY1xV6yPYr",
        "outputId": "dd505478-249c-4251-a787-833cca523d6c"
      },
      "execution_count": 9,
      "outputs": [
        {
          "output_type": "display_data",
          "data": {
            "text/plain": [
              "<IPython.core.display.Javascript object>"
            ],
            "application/javascript": [
              "\n",
              "  for (rule of document.styleSheets[0].cssRules){\n",
              "    if (rule.selectorText=='body') {\n",
              "      rule.style.fontSize = '24px'\n",
              "      break\n",
              "    }\n",
              "  }\n",
              "  "
            ]
          },
          "metadata": {}
        },
        {
          "output_type": "stream",
          "name": "stdout",
          "text": [
            "+----------+----------------+-----------+---------------+-----------------+\n",
            "|ano_fiscal|nome_funcionario|valor_venda|total_venda_ano|total_venda_total|\n",
            "+----------+----------------+-----------+---------------+-----------------+\n",
            "|      2020|        Romario'|       2000|           5500|            18000|\n",
            "|      2020|           Zico'|       1500|           5500|            18000|\n",
            "|      2020|           Pele'|       2000|           5500|            18000|\n",
            "|      2021|        Romario'|       2500|           5000|            18000|\n",
            "|      2021|           Zico'|       1000|           5000|            18000|\n",
            "|      2021|           Pele'|       1500|           5000|            18000|\n",
            "|      2022|        Romario'|       3000|           7500|            18000|\n",
            "|      2022|           Zico'|       2000|           7500|            18000|\n",
            "|      2022|           Pele'|       2500|           7500|            18000|\n",
            "+----------+----------------+-----------+---------------+-----------------+\n",
            "\n"
          ]
        }
      ]
    },
    {
      "cell_type": "code",
      "source": [
        "# Numero de vendas por ano, por funcionario e\n",
        "# número total de vendas em todos os oanos\n",
        "SQL=\"\"\"\n",
        "select\n",
        "  ano_fiscal,\n",
        "  nome_funcionario,\n",
        "  count(*) over (partition by ano_fiscal,nome_funcionario) total_venda_ano,\n",
        "  count(*) over () total_de_vendas\n",
        "\n",
        "from vendas\n",
        "order by ano_fiscal\"\"\"\n",
        "spark.sql(SQL).show()"
      ],
      "metadata": {
        "colab": {
          "base_uri": "https://localhost:8080/",
          "height": 448
        },
        "id": "M0qqkQfxzDlR",
        "outputId": "0fed23cb-973d-4a52-ff1b-52e83d9052b9"
      },
      "execution_count": 10,
      "outputs": [
        {
          "output_type": "display_data",
          "data": {
            "text/plain": [
              "<IPython.core.display.Javascript object>"
            ],
            "application/javascript": [
              "\n",
              "  for (rule of document.styleSheets[0].cssRules){\n",
              "    if (rule.selectorText=='body') {\n",
              "      rule.style.fontSize = '24px'\n",
              "      break\n",
              "    }\n",
              "  }\n",
              "  "
            ]
          },
          "metadata": {}
        },
        {
          "output_type": "stream",
          "name": "stdout",
          "text": [
            "+----------+----------------+---------------+---------------+\n",
            "|ano_fiscal|nome_funcionario|total_venda_ano|total_de_vendas|\n",
            "+----------+----------------+---------------+---------------+\n",
            "|      2020|           Pele'|              1|              9|\n",
            "|      2020|        Romario'|              1|              9|\n",
            "|      2020|           Zico'|              1|              9|\n",
            "|      2021|           Pele'|              1|              9|\n",
            "|      2021|        Romario'|              1|              9|\n",
            "|      2021|           Zico'|              1|              9|\n",
            "|      2022|           Pele'|              1|              9|\n",
            "|      2022|        Romario'|              1|              9|\n",
            "|      2022|           Zico'|              1|              9|\n",
            "+----------+----------------+---------------+---------------+\n",
            "\n"
          ]
        }
      ]
    },
    {
      "cell_type": "code",
      "source": [
        "# Numero de vendas por ano, por funcionario e número total de vendas em todos os oanos usando subquery\n",
        "SQL=\"\"\"\n",
        "select\n",
        "  ano_fiscal,\n",
        "  nome_funcionario,\n",
        "  count(*) over (partition by ano_fiscal,nome_funcionario) total_venda_ano,\n",
        "  count(*) over () total_de_vendas\n",
        "\n",
        "from vendas\n",
        "order by ano_fiscal\"\"\"\n",
        "spark.sql(SQL).show()"
      ],
      "metadata": {
        "colab": {
          "base_uri": "https://localhost:8080/",
          "height": 448
        },
        "id": "j4qQ7UXn0G4E",
        "outputId": "fd796da1-8996-461f-8533-0d7b41705ae5"
      },
      "execution_count": 11,
      "outputs": [
        {
          "output_type": "display_data",
          "data": {
            "text/plain": [
              "<IPython.core.display.Javascript object>"
            ],
            "application/javascript": [
              "\n",
              "  for (rule of document.styleSheets[0].cssRules){\n",
              "    if (rule.selectorText=='body') {\n",
              "      rule.style.fontSize = '24px'\n",
              "      break\n",
              "    }\n",
              "  }\n",
              "  "
            ]
          },
          "metadata": {}
        },
        {
          "output_type": "stream",
          "name": "stdout",
          "text": [
            "+----------+----------------+---------------+---------------+\n",
            "|ano_fiscal|nome_funcionario|total_venda_ano|total_de_vendas|\n",
            "+----------+----------------+---------------+---------------+\n",
            "|      2020|           Pele'|              1|              9|\n",
            "|      2020|        Romario'|              1|              9|\n",
            "|      2020|           Zico'|              1|              9|\n",
            "|      2021|           Pele'|              1|              9|\n",
            "|      2021|        Romario'|              1|              9|\n",
            "|      2021|           Zico'|              1|              9|\n",
            "|      2022|           Pele'|              1|              9|\n",
            "|      2022|        Romario'|              1|              9|\n",
            "|      2022|           Zico'|              1|              9|\n",
            "+----------+----------------+---------------+---------------+\n",
            "\n"
          ]
        }
      ]
    },
    {
      "cell_type": "markdown",
      "source": [
        "### Bicicletas"
      ],
      "metadata": {
        "id": "8mLVpD-g2slP"
      }
    },
    {
      "cell_type": "code",
      "source": [
        "#  data_inicio\n",
        "#  data_fim\n",
        "#  numero_estacao_inicio\n",
        "#  estacao_inicio\n",
        "#  numero_estacao_fim\n",
        "#  estacao_fim\n",
        "#  numero_bicileta\n",
        "#  tipo_membro\n",
        "SQL=\"\"\"select `Start date` from  bicicletas\"\"\"\n",
        "spark.sql(SQL).show()"
      ],
      "metadata": {
        "colab": {
          "base_uri": "https://localhost:8080/",
          "height": 1000
        },
        "id": "fuE-azMW2r7R",
        "outputId": "464c0a1e-ced7-4a81-82aa-396417064f5d"
      },
      "execution_count": 12,
      "outputs": [
        {
          "output_type": "display_data",
          "data": {
            "text/plain": [
              "<IPython.core.display.Javascript object>"
            ],
            "application/javascript": [
              "\n",
              "  for (rule of document.styleSheets[0].cssRules){\n",
              "    if (rule.selectorText=='body') {\n",
              "      rule.style.fontSize = '24px'\n",
              "      break\n",
              "    }\n",
              "  }\n",
              "  "
            ]
          },
          "metadata": {}
        },
        {
          "output_type": "error",
          "ename": "AnalysisException",
          "evalue": "[UNRESOLVED_COLUMN.WITH_SUGGESTION] A column or function parameter with name `Start date` cannot be resolved. Did you mean one of the following? [`data_fim`, `data_inicio`, `estacao_fim`, `tipo_membro`, `estacao_inicio`].; line 1 pos 7;\n'Project ['Start date]\n+- SubqueryAlias bicicletas\n   +- View (`bicicletas`, [duracao_segundos#58,data_inicio#59,data_fim#60,numero_estacao_inicio#61,estacao_inicio#62,numero_estacao_fim#63,estacao_fim#64,numero_bicileta#65,tipo_membro#66])\n      +- Project [Duration#40 AS duracao_segundos#58, Start date#41 AS data_inicio#59, End date#42 AS data_fim#60, Start station number#43 AS numero_estacao_inicio#61, Start station#44 AS estacao_inicio#62, End station number#45 AS numero_estacao_fim#63, End station#46 AS estacao_fim#64, Bike number#47 AS numero_bicileta#65, Member type#48 AS tipo_membro#66]\n         +- SubqueryAlias bicicletas_temp\n            +- View (`bicicletas_temp`, [Duration#40,Start date#41,End date#42,Start station number#43,Start station#44,End station number#45,End station#46,Bike number#47,Member type#48])\n               +- Relation [Duration#40,Start date#41,End date#42,Start station number#43,Start station#44,End station number#45,End station#46,Bike number#47,Member type#48] csv\n",
          "traceback": [
            "\u001b[0;31m---------------------------------------------------------------------------\u001b[0m",
            "\u001b[0;31mAnalysisException\u001b[0m                         Traceback (most recent call last)",
            "\u001b[0;32m<ipython-input-12-d26996efe221>\u001b[0m in \u001b[0;36m<cell line: 10>\u001b[0;34m()\u001b[0m\n\u001b[1;32m      8\u001b[0m \u001b[0;31m#  tipo_membro\u001b[0m\u001b[0;34m\u001b[0m\u001b[0;34m\u001b[0m\u001b[0m\n\u001b[1;32m      9\u001b[0m \u001b[0mSQL\u001b[0m\u001b[0;34m=\u001b[0m\u001b[0;34m\"\"\"select `Start date` from  bicicletas\"\"\"\u001b[0m\u001b[0;34m\u001b[0m\u001b[0;34m\u001b[0m\u001b[0m\n\u001b[0;32m---> 10\u001b[0;31m \u001b[0mspark\u001b[0m\u001b[0;34m.\u001b[0m\u001b[0msql\u001b[0m\u001b[0;34m(\u001b[0m\u001b[0mSQL\u001b[0m\u001b[0;34m)\u001b[0m\u001b[0;34m.\u001b[0m\u001b[0mshow\u001b[0m\u001b[0;34m(\u001b[0m\u001b[0;34m)\u001b[0m\u001b[0;34m\u001b[0m\u001b[0;34m\u001b[0m\u001b[0m\n\u001b[0m",
            "\u001b[0;32m/usr/local/lib/python3.10/dist-packages/pyspark/sql/session.py\u001b[0m in \u001b[0;36msql\u001b[0;34m(self, sqlQuery, args, **kwargs)\u001b[0m\n\u001b[1;32m   1629\u001b[0m                     \u001b[0;34m[\u001b[0m\u001b[0m_to_java_column\u001b[0m\u001b[0;34m(\u001b[0m\u001b[0mlit\u001b[0m\u001b[0;34m(\u001b[0m\u001b[0mv\u001b[0m\u001b[0;34m)\u001b[0m\u001b[0;34m)\u001b[0m \u001b[0;32mfor\u001b[0m \u001b[0mv\u001b[0m \u001b[0;32min\u001b[0m \u001b[0;34m(\u001b[0m\u001b[0margs\u001b[0m \u001b[0;32mor\u001b[0m \u001b[0;34m[\u001b[0m\u001b[0;34m]\u001b[0m\u001b[0;34m)\u001b[0m\u001b[0;34m]\u001b[0m\u001b[0;34m\u001b[0m\u001b[0;34m\u001b[0m\u001b[0m\n\u001b[1;32m   1630\u001b[0m                 )\n\u001b[0;32m-> 1631\u001b[0;31m             \u001b[0;32mreturn\u001b[0m \u001b[0mDataFrame\u001b[0m\u001b[0;34m(\u001b[0m\u001b[0mself\u001b[0m\u001b[0;34m.\u001b[0m\u001b[0m_jsparkSession\u001b[0m\u001b[0;34m.\u001b[0m\u001b[0msql\u001b[0m\u001b[0;34m(\u001b[0m\u001b[0msqlQuery\u001b[0m\u001b[0;34m,\u001b[0m \u001b[0mlitArgs\u001b[0m\u001b[0;34m)\u001b[0m\u001b[0;34m,\u001b[0m \u001b[0mself\u001b[0m\u001b[0;34m)\u001b[0m\u001b[0;34m\u001b[0m\u001b[0;34m\u001b[0m\u001b[0m\n\u001b[0m\u001b[1;32m   1632\u001b[0m         \u001b[0;32mfinally\u001b[0m\u001b[0;34m:\u001b[0m\u001b[0;34m\u001b[0m\u001b[0;34m\u001b[0m\u001b[0m\n\u001b[1;32m   1633\u001b[0m             \u001b[0;32mif\u001b[0m \u001b[0mlen\u001b[0m\u001b[0;34m(\u001b[0m\u001b[0mkwargs\u001b[0m\u001b[0;34m)\u001b[0m \u001b[0;34m>\u001b[0m \u001b[0;36m0\u001b[0m\u001b[0;34m:\u001b[0m\u001b[0;34m\u001b[0m\u001b[0;34m\u001b[0m\u001b[0m\n",
            "\u001b[0;32m/usr/local/lib/python3.10/dist-packages/py4j/java_gateway.py\u001b[0m in \u001b[0;36m__call__\u001b[0;34m(self, *args)\u001b[0m\n\u001b[1;32m   1320\u001b[0m \u001b[0;34m\u001b[0m\u001b[0m\n\u001b[1;32m   1321\u001b[0m         \u001b[0manswer\u001b[0m \u001b[0;34m=\u001b[0m \u001b[0mself\u001b[0m\u001b[0;34m.\u001b[0m\u001b[0mgateway_client\u001b[0m\u001b[0;34m.\u001b[0m\u001b[0msend_command\u001b[0m\u001b[0;34m(\u001b[0m\u001b[0mcommand\u001b[0m\u001b[0;34m)\u001b[0m\u001b[0;34m\u001b[0m\u001b[0;34m\u001b[0m\u001b[0m\n\u001b[0;32m-> 1322\u001b[0;31m         return_value = get_return_value(\n\u001b[0m\u001b[1;32m   1323\u001b[0m             answer, self.gateway_client, self.target_id, self.name)\n\u001b[1;32m   1324\u001b[0m \u001b[0;34m\u001b[0m\u001b[0m\n",
            "\u001b[0;32m/usr/local/lib/python3.10/dist-packages/pyspark/errors/exceptions/captured.py\u001b[0m in \u001b[0;36mdeco\u001b[0;34m(*a, **kw)\u001b[0m\n\u001b[1;32m    183\u001b[0m                 \u001b[0;31m# Hide where the exception came from that shows a non-Pythonic\u001b[0m\u001b[0;34m\u001b[0m\u001b[0;34m\u001b[0m\u001b[0m\n\u001b[1;32m    184\u001b[0m                 \u001b[0;31m# JVM exception message.\u001b[0m\u001b[0;34m\u001b[0m\u001b[0;34m\u001b[0m\u001b[0m\n\u001b[0;32m--> 185\u001b[0;31m                 \u001b[0;32mraise\u001b[0m \u001b[0mconverted\u001b[0m \u001b[0;32mfrom\u001b[0m \u001b[0;32mNone\u001b[0m\u001b[0;34m\u001b[0m\u001b[0;34m\u001b[0m\u001b[0m\n\u001b[0m\u001b[1;32m    186\u001b[0m             \u001b[0;32melse\u001b[0m\u001b[0;34m:\u001b[0m\u001b[0;34m\u001b[0m\u001b[0;34m\u001b[0m\u001b[0m\n\u001b[1;32m    187\u001b[0m                 \u001b[0;32mraise\u001b[0m\u001b[0;34m\u001b[0m\u001b[0;34m\u001b[0m\u001b[0m\n",
            "\u001b[0;31mAnalysisException\u001b[0m: [UNRESOLVED_COLUMN.WITH_SUGGESTION] A column or function parameter with name `Start date` cannot be resolved. Did you mean one of the following? [`data_fim`, `data_inicio`, `estacao_fim`, `tipo_membro`, `estacao_inicio`].; line 1 pos 7;\n'Project ['Start date]\n+- SubqueryAlias bicicletas\n   +- View (`bicicletas`, [duracao_segundos#58,data_inicio#59,data_fim#60,numero_estacao_inicio#61,estacao_inicio#62,numero_estacao_fim#63,estacao_fim#64,numero_bicileta#65,tipo_membro#66])\n      +- Project [Duration#40 AS duracao_segundos#58, Start date#41 AS data_inicio#59, End date#42 AS data_fim#60, Start station number#43 AS numero_estacao_inicio#61, Start station#44 AS estacao_inicio#62, End station number#45 AS numero_estacao_fim#63, End station#46 AS estacao_fim#64, Bike number#47 AS numero_bicileta#65, Member type#48 AS tipo_membro#66]\n         +- SubqueryAlias bicicletas_temp\n            +- View (`bicicletas_temp`, [Duration#40,Start date#41,End date#42,Start station number#43,Start station#44,End station number#45,End station#46,Bike number#47,Member type#48])\n               +- Relation [Duration#40,Start date#41,End date#42,Start station number#43,Start station#44,End station number#45,End station#46,Bike number#47,Member type#48] csv\n"
          ]
        }
      ]
    },
    {
      "cell_type": "code",
      "source": [
        "# Duração total do aluguel das bikes (em horas)\n",
        "SQL=\"\"\"\n",
        "select\n",
        "  sum(duracao_segundos)/3600  duracao_horas\n",
        "from bicicletas\"\"\"\n",
        "spark.sql(SQL).show()\n",
        "\n",
        "# Duração total do aluguel das bikes (em horas), ao longo do tempo\n",
        "SQL=\"\"\"\n",
        "select\n",
        "  duracao_segundos,\n",
        "  sum(duracao_segundos/3600) over(order by data_inicio) duracao__total_horas\n",
        "from bicicletas\"\"\"\n",
        "spark.sql(SQL).show()"
      ],
      "metadata": {
        "id": "T_6pX-xR3cyn"
      },
      "execution_count": null,
      "outputs": []
    },
    {
      "cell_type": "code",
      "source": [
        "# Duracao total do aluguel das bikes (em horas), ao longo do tempo, por estação\n",
        "# de inicio do aluguel da bike, quando a data de inicio é menor '2012-01-08'\n",
        "\n",
        "SQL=\"\"\"\n",
        "select\n",
        "  row_number() over(order by estacao_inicio,data_inicio) numero_linha,\n",
        "  estacao_inicio,\n",
        "  duracao_segundos,\n",
        "  sum(duracao_segundos/3600) over(partition by estacao_inicio order by data_inicio) duracao__total_horas\n",
        "from bicicletas\n",
        "where data_inicio <'2012-01-08'\n",
        "order by numero_linha\n",
        "\"\"\"\n",
        "spark.sql(SQL).show(60)"
      ],
      "metadata": {
        "id": "bUxck4sp8NEn"
      },
      "execution_count": null,
      "outputs": []
    },
    {
      "cell_type": "code",
      "source": [
        "# Qual é a média de tempo (em horas) de aluguél de bikes da estação ininicio 310177\n",
        "SQL=\"\"\"\n",
        "select\n",
        "  estacao_inicio,\n",
        "  duracao_segundos/3600,\n",
        "  avg(duracao_segundos/3600) over(partition by estacao_inicio order by data_inicio) media_tempo_aluguel\n",
        "from bicicletas\n",
        "where numero_estacao_inicio = 31017\n",
        "\n",
        "\n",
        "\"\"\"\n",
        "spark.sql(SQL).show()\n",
        "0,09944444444444445\n",
        "0,5402777777777777"
      ],
      "metadata": {
        "id": "hsZb_ONEA0Ce"
      },
      "execution_count": null,
      "outputs": []
    },
    {
      "cell_type": "code",
      "source": [
        "# Retornar:\n",
        "# Estação de início, data de início e duração de cada aluguel de bike em segundos\n",
        "# Duração total de aluguel das bikes ao longo do tempo por estação de início\n",
        "# Duração média do aluguel de bikes ao longo do tempo por estação de início\n",
        "# Número de aluguéis de bikes por estação ao longo do tempo\n",
        "# Somente os registros quando a data de início for inferior a '2012-01-08'\n"
      ],
      "metadata": {
        "id": "1QRIrV2kBgNp"
      },
      "execution_count": null,
      "outputs": []
    },
    {
      "cell_type": "code",
      "source": [
        "# Retornar:\n",
        "# Estação de início, data de início de cada aluguel de bike e duração de cada aluguel em segundos\n",
        "# Número de aluguéis de bikes (independente da estação) ao longo do tempo\n",
        "# Somente os registros quando a data de início for inferior a '2012-01-08'\n",
        "\n"
      ],
      "metadata": {
        "id": "TwZfEUh2EtuD"
      },
      "execution_count": null,
      "outputs": []
    }
  ]
}